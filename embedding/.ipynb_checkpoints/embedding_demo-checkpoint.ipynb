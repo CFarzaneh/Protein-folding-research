{
 "cells": [
  {
   "cell_type": "code",
   "execution_count": 1,
   "metadata": {},
   "outputs": [
    {
     "name": "stderr",
     "output_type": "stream",
     "text": [
      "Using TensorFlow backend.\n"
     ]
    }
   ],
   "source": [
    "import numpy as np\n",
    "import os\n",
    "import pandas as pd\n",
    "from keras.layers import Conv3D, MaxPooling3D, Flatten, Dense, Input, Add\n",
    "from keras.models import Model"
   ]
  },
  {
   "cell_type": "code",
   "execution_count": 2,
   "metadata": {},
   "outputs": [],
   "source": [
    "# Just checking on a single file \n",
    "# For all the 1000 file, you can use each file as a batch\n",
    "data = np.load(\"/home/atharva/Desktop/tensor_data/\"+\"pdb4g9e_data.npy\")\n",
    "label = np.load(\"/home/atharva/Desktop/tensor_label/\"+\"pdb4g9e_label.npy\")"
   ]
  },
  {
   "cell_type": "code",
   "execution_count": 3,
   "metadata": {},
   "outputs": [
    {
     "data": {
      "text/plain": [
       "(548, 21, 18, 18, 18)"
      ]
     },
     "execution_count": 3,
     "metadata": {},
     "output_type": "execute_result"
    }
   ],
   "source": [
    "data.shape"
   ]
  },
  {
   "cell_type": "code",
   "execution_count": 4,
   "metadata": {},
   "outputs": [
    {
     "data": {
      "text/plain": [
       "(548,)"
      ]
     },
     "execution_count": 4,
     "metadata": {},
     "output_type": "execute_result"
    }
   ],
   "source": [
    "label.shape"
   ]
  },
  {
   "cell_type": "code",
   "execution_count": 5,
   "metadata": {},
   "outputs": [],
   "source": [
    "# Change label to one-hot encoding\n",
    "# For all the file, you need to club all the labels files together and then change into one-hot encoding for sync\n",
    "from sklearn.preprocessing import OneHotEncoder\n",
    "protein_label_encoder = pd.factorize(label)\n",
    "encoder = OneHotEncoder()\n",
    "protein_labels_1hot = encoder.fit_transform(protein_label_encoder[0].reshape(-1,1))\n",
    "onehot_array = protein_labels_1hot.toarray()\n"
   ]
  },
  {
   "cell_type": "code",
   "execution_count": 6,
   "metadata": {},
   "outputs": [
    {
     "name": "stdout",
     "output_type": "stream",
     "text": [
      "(548, 20)\n"
     ]
    }
   ],
   "source": [
    "print(onehot_array.shape)"
   ]
  },
  {
   "cell_type": "code",
   "execution_count": 7,
   "metadata": {},
   "outputs": [
    {
     "name": "stdout",
     "output_type": "stream",
     "text": [
      "[ 0.  0.  0.  0.  0.  0.  0.  0.  0.  0.  1.  0.  0.  0.  0.  0.  0.  0.\n",
      "  0.  0.]\n"
     ]
    }
   ],
   "source": [
    "print(onehot_array[254])"
   ]
  },
  {
   "cell_type": "code",
   "execution_count": 8,
   "metadata": {},
   "outputs": [],
   "source": [
    "data1 = data.reshape((548, 21, 18, 18, 18,1))"
   ]
  },
  {
   "cell_type": "code",
   "execution_count": 9,
   "metadata": {},
   "outputs": [
    {
     "data": {
      "text/plain": [
       "(548, 21, 18, 18, 18, 1)"
      ]
     },
     "execution_count": 9,
     "metadata": {},
     "output_type": "execute_result"
    }
   ],
   "source": [
    "data1.shape"
   ]
  },
  {
   "cell_type": "code",
   "execution_count": 10,
   "metadata": {},
   "outputs": [],
   "source": [
    "# For parallel 21 computations, Create 21 list to insert the model\n",
    "data2 = [[] for _ in range(21)]\n",
    "for sample in data1:\n",
    "    for ind,val in enumerate(sample):\n",
    "        data2[ind].append(val)\n",
    "data2 = [np.array(i) for i in data2]"
   ]
  },
  {
   "cell_type": "code",
   "execution_count": 11,
   "metadata": {},
   "outputs": [
    {
     "data": {
      "text/plain": [
       "(21, (548, 18, 18, 18, 1))"
      ]
     },
     "execution_count": 11,
     "metadata": {},
     "output_type": "execute_result"
    }
   ],
   "source": [
    "len(data2), data2[0].shape"
   ]
  },
  {
   "cell_type": "code",
   "execution_count": 12,
   "metadata": {},
   "outputs": [
    {
     "name": "stderr",
     "output_type": "stream",
     "text": [
      "/home/atharva/anaconda3/lib/python3.6/site-packages/ipykernel_launcher.py:18: UserWarning: Update your `Model` call to the Keras 2 API: `Model(inputs=[<tf.Tenso..., outputs=Tensor(\"de...)`\n"
     ]
    }
   ],
   "source": [
    "# Demo Architecture \n",
    "import keras\n",
    "def parallel_computation(inputs):\n",
    "    convs = []\n",
    "    for i in range(21):\n",
    "        conv = Conv3D(3,kernel_size=(1, 1, 1), strides=(1, 1, 1), activation='relu',\\\n",
    "                      input_shape=(18,18,18,1))(inputs[i])\n",
    "        convs.append(conv)\n",
    "    return keras.layers.Add()(convs)\n",
    "    \n",
    "\n",
    "inputs = [Input(shape=(18,18,18,1)) for _ in range(21)]\n",
    "adds = parallel_computation(inputs)\n",
    "conv1 = Conv3D(1,kernel_size=(1, 1, 1), strides=(1, 1, 1), activation='relu',\\\n",
    "                      input_shape=(18,18,18,3))(adds)\n",
    "pool1 = MaxPooling3D(pool_size=(2, 2, 2), strides=(2, 2, 2))(conv1)\n",
    "flatten1 = Flatten()(pool1)\n",
    "dense1 = Dense(100, activation='relu')(flatten1)\n",
    "out = Dense(20, activation='softmax')(dense1)\n",
    "model = Model(input= inputs,output = out)\n"
   ]
  },
  {
   "cell_type": "code",
   "execution_count": 13,
   "metadata": {},
   "outputs": [
    {
     "name": "stdout",
     "output_type": "stream",
     "text": [
      "__________________________________________________________________________________________________\n",
      "Layer (type)                    Output Shape         Param #     Connected to                     \n",
      "==================================================================================================\n",
      "input_1 (InputLayer)            (None, 18, 18, 18, 1 0                                            \n",
      "__________________________________________________________________________________________________\n",
      "input_2 (InputLayer)            (None, 18, 18, 18, 1 0                                            \n",
      "__________________________________________________________________________________________________\n",
      "input_3 (InputLayer)            (None, 18, 18, 18, 1 0                                            \n",
      "__________________________________________________________________________________________________\n",
      "input_4 (InputLayer)            (None, 18, 18, 18, 1 0                                            \n",
      "__________________________________________________________________________________________________\n",
      "input_5 (InputLayer)            (None, 18, 18, 18, 1 0                                            \n",
      "__________________________________________________________________________________________________\n",
      "input_6 (InputLayer)            (None, 18, 18, 18, 1 0                                            \n",
      "__________________________________________________________________________________________________\n",
      "input_7 (InputLayer)            (None, 18, 18, 18, 1 0                                            \n",
      "__________________________________________________________________________________________________\n",
      "input_8 (InputLayer)            (None, 18, 18, 18, 1 0                                            \n",
      "__________________________________________________________________________________________________\n",
      "input_9 (InputLayer)            (None, 18, 18, 18, 1 0                                            \n",
      "__________________________________________________________________________________________________\n",
      "input_10 (InputLayer)           (None, 18, 18, 18, 1 0                                            \n",
      "__________________________________________________________________________________________________\n",
      "input_11 (InputLayer)           (None, 18, 18, 18, 1 0                                            \n",
      "__________________________________________________________________________________________________\n",
      "input_12 (InputLayer)           (None, 18, 18, 18, 1 0                                            \n",
      "__________________________________________________________________________________________________\n",
      "input_13 (InputLayer)           (None, 18, 18, 18, 1 0                                            \n",
      "__________________________________________________________________________________________________\n",
      "input_14 (InputLayer)           (None, 18, 18, 18, 1 0                                            \n",
      "__________________________________________________________________________________________________\n",
      "input_15 (InputLayer)           (None, 18, 18, 18, 1 0                                            \n",
      "__________________________________________________________________________________________________\n",
      "input_16 (InputLayer)           (None, 18, 18, 18, 1 0                                            \n",
      "__________________________________________________________________________________________________\n",
      "input_17 (InputLayer)           (None, 18, 18, 18, 1 0                                            \n",
      "__________________________________________________________________________________________________\n",
      "input_18 (InputLayer)           (None, 18, 18, 18, 1 0                                            \n",
      "__________________________________________________________________________________________________\n",
      "input_19 (InputLayer)           (None, 18, 18, 18, 1 0                                            \n",
      "__________________________________________________________________________________________________\n",
      "input_20 (InputLayer)           (None, 18, 18, 18, 1 0                                            \n",
      "__________________________________________________________________________________________________\n",
      "input_21 (InputLayer)           (None, 18, 18, 18, 1 0                                            \n",
      "__________________________________________________________________________________________________\n",
      "conv3d_1 (Conv3D)               (None, 18, 18, 18, 3 6           input_1[0][0]                    \n",
      "__________________________________________________________________________________________________\n",
      "conv3d_2 (Conv3D)               (None, 18, 18, 18, 3 6           input_2[0][0]                    \n",
      "__________________________________________________________________________________________________\n",
      "conv3d_3 (Conv3D)               (None, 18, 18, 18, 3 6           input_3[0][0]                    \n",
      "__________________________________________________________________________________________________\n",
      "conv3d_4 (Conv3D)               (None, 18, 18, 18, 3 6           input_4[0][0]                    \n",
      "__________________________________________________________________________________________________\n",
      "conv3d_5 (Conv3D)               (None, 18, 18, 18, 3 6           input_5[0][0]                    \n",
      "__________________________________________________________________________________________________\n",
      "conv3d_6 (Conv3D)               (None, 18, 18, 18, 3 6           input_6[0][0]                    \n",
      "__________________________________________________________________________________________________\n",
      "conv3d_7 (Conv3D)               (None, 18, 18, 18, 3 6           input_7[0][0]                    \n",
      "__________________________________________________________________________________________________\n",
      "conv3d_8 (Conv3D)               (None, 18, 18, 18, 3 6           input_8[0][0]                    \n",
      "__________________________________________________________________________________________________\n",
      "conv3d_9 (Conv3D)               (None, 18, 18, 18, 3 6           input_9[0][0]                    \n",
      "__________________________________________________________________________________________________\n",
      "conv3d_10 (Conv3D)              (None, 18, 18, 18, 3 6           input_10[0][0]                   \n",
      "__________________________________________________________________________________________________\n",
      "conv3d_11 (Conv3D)              (None, 18, 18, 18, 3 6           input_11[0][0]                   \n",
      "__________________________________________________________________________________________________\n",
      "conv3d_12 (Conv3D)              (None, 18, 18, 18, 3 6           input_12[0][0]                   \n",
      "__________________________________________________________________________________________________\n",
      "conv3d_13 (Conv3D)              (None, 18, 18, 18, 3 6           input_13[0][0]                   \n",
      "__________________________________________________________________________________________________\n",
      "conv3d_14 (Conv3D)              (None, 18, 18, 18, 3 6           input_14[0][0]                   \n",
      "__________________________________________________________________________________________________\n",
      "conv3d_15 (Conv3D)              (None, 18, 18, 18, 3 6           input_15[0][0]                   \n",
      "__________________________________________________________________________________________________\n",
      "conv3d_16 (Conv3D)              (None, 18, 18, 18, 3 6           input_16[0][0]                   \n",
      "__________________________________________________________________________________________________\n",
      "conv3d_17 (Conv3D)              (None, 18, 18, 18, 3 6           input_17[0][0]                   \n",
      "__________________________________________________________________________________________________\n",
      "conv3d_18 (Conv3D)              (None, 18, 18, 18, 3 6           input_18[0][0]                   \n",
      "__________________________________________________________________________________________________\n",
      "conv3d_19 (Conv3D)              (None, 18, 18, 18, 3 6           input_19[0][0]                   \n",
      "__________________________________________________________________________________________________\n",
      "conv3d_20 (Conv3D)              (None, 18, 18, 18, 3 6           input_20[0][0]                   \n",
      "__________________________________________________________________________________________________\n",
      "conv3d_21 (Conv3D)              (None, 18, 18, 18, 3 6           input_21[0][0]                   \n",
      "__________________________________________________________________________________________________\n",
      "add_1 (Add)                     (None, 18, 18, 18, 3 0           conv3d_1[0][0]                   \n",
      "                                                                 conv3d_2[0][0]                   \n",
      "                                                                 conv3d_3[0][0]                   \n",
      "                                                                 conv3d_4[0][0]                   \n",
      "                                                                 conv3d_5[0][0]                   \n",
      "                                                                 conv3d_6[0][0]                   \n",
      "                                                                 conv3d_7[0][0]                   \n",
      "                                                                 conv3d_8[0][0]                   \n",
      "                                                                 conv3d_9[0][0]                   \n",
      "                                                                 conv3d_10[0][0]                  \n",
      "                                                                 conv3d_11[0][0]                  \n",
      "                                                                 conv3d_12[0][0]                  \n",
      "                                                                 conv3d_13[0][0]                  \n",
      "                                                                 conv3d_14[0][0]                  \n",
      "                                                                 conv3d_15[0][0]                  \n",
      "                                                                 conv3d_16[0][0]                  \n",
      "                                                                 conv3d_17[0][0]                  \n",
      "                                                                 conv3d_18[0][0]                  \n",
      "                                                                 conv3d_19[0][0]                  \n",
      "                                                                 conv3d_20[0][0]                  \n",
      "                                                                 conv3d_21[0][0]                  \n",
      "__________________________________________________________________________________________________\n",
      "conv3d_22 (Conv3D)              (None, 18, 18, 18, 1 4           add_1[0][0]                      \n",
      "__________________________________________________________________________________________________\n",
      "max_pooling3d_1 (MaxPooling3D)  (None, 9, 9, 9, 1)   0           conv3d_22[0][0]                  \n",
      "__________________________________________________________________________________________________\n",
      "flatten_1 (Flatten)             (None, 729)          0           max_pooling3d_1[0][0]            \n",
      "__________________________________________________________________________________________________\n",
      "dense_1 (Dense)                 (None, 100)          73000       flatten_1[0][0]                  \n",
      "__________________________________________________________________________________________________\n",
      "dense_2 (Dense)                 (None, 20)           2020        dense_1[0][0]                    \n",
      "==================================================================================================\n",
      "Total params: 75,150\n",
      "Trainable params: 75,150\n",
      "Non-trainable params: 0\n",
      "__________________________________________________________________________________________________\n"
     ]
    }
   ],
   "source": [
    "\n",
    "model.summary()"
   ]
  },
  {
   "cell_type": "code",
   "execution_count": 14,
   "metadata": {},
   "outputs": [
    {
     "name": "stdout",
     "output_type": "stream",
     "text": [
      "Train on 438 samples, validate on 110 samples\n",
      "Epoch 1/5\n",
      "438/438 [==============================] - 8s 18ms/step - loss: 2.9489 - acc: 0.1164 - val_loss: 2.8431 - val_acc: 0.0909\n",
      "Epoch 2/5\n",
      "438/438 [==============================] - 7s 16ms/step - loss: 2.6424 - acc: 0.1804 - val_loss: 2.6656 - val_acc: 0.1273\n",
      "Epoch 3/5\n",
      "438/438 [==============================] - 7s 16ms/step - loss: 2.2899 - acc: 0.3037 - val_loss: 2.4391 - val_acc: 0.2182\n",
      "Epoch 4/5\n",
      "438/438 [==============================] - 7s 16ms/step - loss: 1.8602 - acc: 0.4795 - val_loss: 2.1490 - val_acc: 0.3364\n",
      "Epoch 5/5\n",
      "438/438 [==============================] - 7s 15ms/step - loss: 1.5144 - acc: 0.5845 - val_loss: 2.0405 - val_acc: 0.2818\n"
     ]
    },
    {
     "data": {
      "text/plain": [
       "<keras.callbacks.History at 0x7f2a8534be80>"
      ]
     },
     "execution_count": 14,
     "metadata": {},
     "output_type": "execute_result"
    }
   ],
   "source": [
    "# Run it\n",
    "model.compile(loss=keras.losses.categorical_crossentropy,\n",
    "          optimizer=keras.optimizers.Adam(lr=0.001),\n",
    "          metrics=['accuracy'])\n",
    "\n",
    "model.fit(data2, onehot_array,\n",
    "      batch_size=10,\n",
    "      epochs=5,\n",
    "      verbose=1,\n",
    "      validation_split=0.2)"
   ]
  },
  {
   "cell_type": "code",
   "execution_count": null,
   "metadata": {},
   "outputs": [],
   "source": []
  }
 ],
 "metadata": {
  "kernelspec": {
   "display_name": "Python 3",
   "language": "python",
   "name": "python3"
  },
  "language_info": {
   "codemirror_mode": {
    "name": "ipython",
    "version": 3
   },
   "file_extension": ".py",
   "mimetype": "text/x-python",
   "name": "python",
   "nbconvert_exporter": "python",
   "pygments_lexer": "ipython3",
   "version": "3.6.4"
  }
 },
 "nbformat": 4,
 "nbformat_minor": 2
}
